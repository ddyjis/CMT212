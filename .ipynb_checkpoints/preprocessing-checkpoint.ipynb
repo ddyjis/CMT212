{
 "cells": [
  {
   "cell_type": "code",
   "execution_count": 1,
   "metadata": {
    "collapsed": true
   },
   "outputs": [],
   "source": [
    "%matplotlib notebook\n",
    "import numpy as np\n",
    "import pandas as pd\n",
    "import json\n",
    "import csv\n",
    "import matplotlib\n",
    "import matplotlib.pyplot as plt"
   ]
  },
  {
   "cell_type": "code",
   "execution_count": 2,
   "metadata": {
    "collapsed": true
   },
   "outputs": [],
   "source": [
    "# read in datasets\n",
    "under5 = pd.read_csv(\"data/Pre-processing/Under5Mortarity.csv\") # data for moartarity rate for children under 5\n",
    "vaccine = pd.read_csv(\"data/Pre-processing/vaccine.csv\")        # data for vaccine coverates"
   ]
  },
  {
   "cell_type": "code",
   "execution_count": 3,
   "metadata": {},
   "outputs": [
    {
     "name": "stdout",
     "output_type": "stream",
     "text": [
      "ISO Code in under5: 197, vaccine: 194\n",
      "Total Vaccine: 20\n"
     ]
    }
   ],
   "source": [
    "# display the number of countries in each dataset\n",
    "print(\"ISO Code in under5: {0}, vaccine: {1}\".format(len(under5['ISO Code'].unique()), len(vaccine.ISO_code.unique())))\n",
    "print(\"Total Vaccine: {0}\".format(len(vaccine.Vaccine.unique())))"
   ]
  },
  {
   "cell_type": "code",
   "execution_count": 4,
   "metadata": {},
   "outputs": [
    {
     "name": "stdout",
     "output_type": "stream",
     "text": [
      "194\n"
     ]
    }
   ],
   "source": [
    "# find the common countries across the three datasets\n",
    "under5_idx = pd.Index(under5['ISO Code'])\n",
    "vaccine_idx = pd.Index(vaccine.ISO_code.unique())\n",
    "common_countries = under5_idx.intersection(vaccine_idx)\n",
    "print(len(common_countries))"
   ]
  },
  {
   "cell_type": "code",
   "execution_count": 5,
   "metadata": {
    "collapsed": true
   },
   "outputs": [],
   "source": [
    "# output the common countries to JSON file\n",
    "ISO_File = open(\"data/Pre-processing/ISO_list_in_dataset.json\", \"w\")\n",
    "ISO_File.write(json.dumps(list(common_countries.to_series())))\n",
    "ISO_File.close()"
   ]
  },
  {
   "cell_type": "code",
   "execution_count": 6,
   "metadata": {
    "collapsed": true
   },
   "outputs": [],
   "source": [
    "# convert ISO to Country Names convertion table from CSV to JSON format\n",
    "ISO2Names = {}\n",
    "with open(\"data/Pre-processing/ISO2Names.csv\", \"r\") as f:\n",
    "    reader = csv.reader(f)\n",
    "    for row in reader:\n",
    "        ISO2Names[row[0]] = row[1]\n",
    "ISO2Name_File = open(\"data/Pre-processing/ISO2Name.json\", \"w\")\n",
    "ISO2Name_File.write(json.dumps(ISO2Names))\n",
    "ISO2Name_File.close()"
   ]
  },
  {
   "cell_type": "code",
   "execution_count": 7,
   "metadata": {
    "collapsed": true
   },
   "outputs": [],
   "source": [
    "# standardise data and arrange columns in increasing order of years for JavaScript to read\n",
    "under5 = under5.set_index(\"ISO Code\").ix[:, 2:].apply(pd.to_numeric, errors=\"coerce\").apply(lambda x: x/1000)\n",
    "vaccine = vaccine.set_index([\"ISO_code\", \"Vaccine\"]).ix[:, 2:].apply(lambda x: x/100)\n",
    "vaccine = vaccine[vaccine.columns[::-1]]"
   ]
  },
  {
   "cell_type": "code",
   "execution_count": 11,
   "metadata": {},
   "outputs": [
    {
     "data": {
      "text/plain": [
       "20"
      ]
     },
     "execution_count": 11,
     "metadata": {},
     "output_type": "execute_result"
    }
   ],
   "source": [
    "# find the vaccine used in each country\n",
    "vaccine_in_country = {}\n",
    "for c, v in vaccine.index:\n",
    "    vaccine_in_country.setdefault(c, []).append(v)\n",
    "\n",
    "v_in_c_file = open(\"data/Vaccine_in_Country.json\", \"w\")\n",
    "v_in_c_file.write(json.dumps(vaccine_in_country))\n",
    "v_in_c_file.close()\n",
    "\n",
    "max = 0\n",
    "for c in vaccine_in_country:\n",
    "    if len(vaccine_in_country[c]) > max:\n",
    "        max = len(vaccine_in_country[c])\n",
    "print(\"Maximum number of vaccine a country adopt: {0}\".format(max))"
   ]
  },
  {
   "cell_type": "code",
   "execution_count": 9,
   "metadata": {},
   "outputs": [
    {
     "name": "stdout",
     "output_type": "stream",
     "text": [
      "0.3369\n"
     ]
    },
    {
     "data": {
      "text/plain": [
       "array([[<matplotlib.axes._subplots.AxesSubplot object at 0x10dae39b0>]], dtype=object)"
      ]
     },
     "execution_count": 9,
     "metadata": {},
     "output_type": "execute_result"
    },
    {
     "data": {
      "image/png": "[encoded data removed]",
      "text/plain": [
       "<matplotlib.figure.Figure at 0x10dae30f0>"
      ]
     },
     "metadata": {},
     "output_type": "display_data"
    }
   ],
   "source": [
    "# find the maximum value in the under5 dataset\n",
    "print(\"Maximum value of mortality rate between 1980 and 2015: {0}\".format(under5.iloc[:, 30:].max(numeric_only=True).max()))\n",
    "pd.DataFrame(under5.iloc[:, 30:].values.flatten()).hist(bins=7, range=(0,0.35))"
   ]
  },
  {
   "cell_type": "code",
   "execution_count": 10,
   "metadata": {
    "collapsed": true
   },
   "outputs": [],
   "source": [
    "# output the dataset to csv file\n",
    "under5.to_csv(\"data/under5.csv\")\n",
    "vaccine.to_csv(\"data/vaccine.csv\")"
   ]
  }
 ],
 "metadata": {
  "anaconda-cloud": {},
  "kernelspec": {
   "display_name": "Python [default]",
   "language": "python",
   "name": "python3"
  },
  "language_info": {
   "codemirror_mode": {
    "name": "ipython",
    "version": 3
   },
   "file_extension": ".py",
   "mimetype": "text/x-python",
   "name": "python",
   "nbconvert_exporter": "python",
   "pygments_lexer": "ipython3",
   "version": "3.5.2"
  }
 },
 "nbformat": 4,
 "nbformat_minor": 1
}
