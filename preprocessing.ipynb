{
 "cells": [
  {
   "cell_type": "code",
   "execution_count": 19,
   "metadata": {
    "collapsed": true
   },
   "outputs": [],
   "source": [
    "import pandas as pd"
   ]
  },
  {
   "cell_type": "code",
   "execution_count": 20,
   "metadata": {},
   "outputs": [],
   "source": [
    "under5 = pd.read_csv(\"data/Under5Mortarity.csv\")\n",
    "vaccine = pd.read_csv(\"data/vaccine.csv\")\n",
    "incidence = pd.read_csv(\"data/incidence.csv\")"
   ]
  },
  {
   "cell_type": "code",
   "execution_count": 21,
   "metadata": {
    "scrolled": true
   },
   "outputs": [
    {
     "name": "stdout",
     "output_type": "stream",
     "text": [
      "ISO Code in under5: 196, vaccine: 194, incidence: 194\n"
     ]
    }
   ],
   "source": [
    "print(\"ISO Code in under5: {0}, vaccine: {1}, incidence: {2}\".format(len(under5['ISO Code'].unique()), len(vaccine.ISO_code.unique()), len(incidence.ISO_code.unique())))"
   ]
  },
  {
   "cell_type": "code",
   "execution_count": 22,
   "metadata": {},
   "outputs": [
    {
     "name": "stdout",
     "output_type": "stream",
     "text": [
      "194\n"
     ]
    }
   ],
   "source": [
    "under5_idx = pd.Index(under5['ISO Code'])\n",
    "vaccine_idx = pd.Index(vaccine.ISO_code.unique())\n",
    "incidence_idx = pd.Index(incidence.ISO_code.unique())\n",
    "common_countries = under5_idx.intersection(vaccine_idx).intersection(incidence_idx)\n",
    "print(len(common_countries))"
   ]
  },
  {
   "cell_type": "code",
   "execution_count": 33,
   "metadata": {},
   "outputs": [],
   "source": [
    "import json\n",
    "ISO_File = open(\"ISO_Code_list.json\", \"w\")\n",
    "ISO_File.write(json.dumps(list(common_countries.to_series())))\n",
    "ISO_File.close()"
   ]
  }
 ],
 "metadata": {
  "anaconda-cloud": {},
  "kernelspec": {
   "display_name": "Python [default]",
   "language": "python",
   "name": "python3"
  },
  "language_info": {
   "codemirror_mode": {
    "name": "ipython",
    "version": 3
   },
   "file_extension": ".py",
   "mimetype": "text/x-python",
   "name": "python",
   "nbconvert_exporter": "python",
   "pygments_lexer": "ipython3",
   "version": "3.5.2"
  }
 },
 "nbformat": 4,
 "nbformat_minor": 1
}
