{
 "cells": [
  {
   "cell_type": "code",
   "execution_count": 1,
   "metadata": {
    "collapsed": true
   },
   "outputs": [],
   "source": [
    "import pandas as pd"
   ]
  },
  {
   "cell_type": "code",
   "execution_count": 2,
   "metadata": {},
   "outputs": [],
   "source": [
    "under5 = pd.read_csv(\"data/Under5Mortarity.csv\", encoding='utf-8')\n",
    "vaccine = pd.read_csv(\"data/vaccine.csv\")\n",
    "incidence = pd.read_csv(\"data/incidence.csv\")"
   ]
  },
  {
   "cell_type": "code",
   "execution_count": 3,
   "metadata": {
    "scrolled": true
   },
   "outputs": [
    {
     "name": "stdout",
     "output_type": "stream",
     "text": [
      "Countries in under5: 196, vaccine: 194, incidence: 194\n"
     ]
    }
   ],
   "source": [
    "print(\"Countries in under5: {0}, vaccine: {1}, incidence: {2}\".format(len(under5['ISO Code'].unique()), len(vaccine.Cname.unique()), len(incidence.Cname.unique())))"
   ]
  },
  {
   "cell_type": "code",
   "execution_count": 4,
   "metadata": {},
   "outputs": [
    {
     "data": {
      "text/plain": [
       "'0.19.2'"
      ]
     },
     "execution_count": 4,
     "metadata": {},
     "output_type": "execute_result"
    }
   ],
   "source": [
    "pd.__version__"
   ]
  },
  {
   "cell_type": "code",
   "execution_count": 5,
   "metadata": {},
   "outputs": [
    {
     "name": "stdout",
     "output_type": "stream",
     "text": [
      "171\n"
     ]
    }
   ],
   "source": [
    "under5_idx = pd.Index(under5['Country Name'])\n",
    "vaccine_idx = pd.Index(vaccine.Cname.unique())\n",
    "incidence_idx = pd.Index(incidence.Cname.unique())\n",
    "common_countries = under5_idx.intersection(vaccine_idx).intersection(incidence_idx)\n",
    "print(len(common_countries))"
   ]
  }
 ],
 "metadata": {
  "anaconda-cloud": {},
  "kernelspec": {
   "display_name": "Python [default]",
   "language": "python",
   "name": "python3"
  },
  "language_info": {
   "codemirror_mode": {
    "name": "ipython",
    "version": 3
   },
   "file_extension": ".py",
   "mimetype": "text/x-python",
   "name": "python",
   "nbconvert_exporter": "python",
   "pygments_lexer": "ipython3",
   "version": "3.5.2"
  }
 },
 "nbformat": 4,
 "nbformat_minor": 1
}
