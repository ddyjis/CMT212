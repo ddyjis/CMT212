{
 "cells": [
  {
   "cell_type": "code",
   "execution_count": 34,
   "metadata": {
    "collapsed": true
   },
   "outputs": [],
   "source": [
    "import pandas as pd"
   ]
  },
  {
   "cell_type": "code",
   "execution_count": 35,
   "metadata": {
    "collapsed": true
   },
   "outputs": [],
   "source": [
    "under5 = pd.read_csv(\"data/Pre-processing/Under5Mortarity.csv\")\n",
    "vaccine = pd.read_csv(\"data/Pre-processing/vaccine.csv\")\n",
    "incidence = pd.read_csv(\"data/Pre-processing/incidence.csv\")"
   ]
  },
  {
   "cell_type": "code",
   "execution_count": 36,
   "metadata": {
    "scrolled": true
   },
   "outputs": [
    {
     "name": "stdout",
     "output_type": "stream",
     "text": [
      "ISO Code in under5: 196, vaccine: 194, incidence: 194\n"
     ]
    }
   ],
   "source": [
    "print(\"ISO Code in under5: {0}, vaccine: {1}, incidence: {2}\".format(len(under5['ISO Code'].unique()), len(vaccine.ISO_code.unique()), len(incidence.ISO_code.unique())))"
   ]
  },
  {
   "cell_type": "code",
   "execution_count": 37,
   "metadata": {},
   "outputs": [
    {
     "name": "stdout",
     "output_type": "stream",
     "text": [
      "194\n"
     ]
    }
   ],
   "source": [
    "under5_idx = pd.Index(under5['ISO Code'])\n",
    "vaccine_idx = pd.Index(vaccine.ISO_code.unique())\n",
    "incidence_idx = pd.Index(incidence.ISO_code.unique())\n",
    "common_countries = under5_idx.intersection(vaccine_idx).intersection(incidence_idx)\n",
    "print(len(common_countries))"
   ]
  },
  {
   "cell_type": "code",
   "execution_count": 38,
   "metadata": {
    "collapsed": true
   },
   "outputs": [],
   "source": [
    "import json\n",
    "ISO_File = open(\"data/Pre-processing/ISO_Code_list.json\", \"w\")\n",
    "ISO_File.write(json.dumps(list(common_countries.to_series())))\n",
    "ISO_File.close()"
   ]
  },
  {
   "cell_type": "code",
   "execution_count": 41,
   "metadata": {},
   "outputs": [],
   "source": [
    "import csv\n",
    "ISO2Names = {}\n",
    "with open(\"data/Pre-processing/ISO2Names.csv\", \"r\") as f:\n",
    "    reader = csv.reader(f)\n",
    "    for row in reader:\n",
    "        ISO2Names[row[0]] = row[1]\n",
    "ISO2Name_File = open(\"data/Pre-processing/ISO2Name.json\", \"w\")\n",
    "ISO2Name_File.write(json.dumps(ISO2Names))\n",
    "ISO2Name_File.close()"
   ]
  },
  {
   "cell_type": "code",
   "execution_count": 42,
   "metadata": {
    "collapsed": true
   },
   "outputs": [],
   "source": [
    "common_countries = [\"AFG\",\"ALB\",\"DZA\",\"AND\",\"AGO\",\"ARG\",\"ARM\",\"AUS\",\"AUT\",\"AZE\",\"BHS\",\"BHR\",\"BGD\",\"BRB\",\"BLR\",\"BLZ\",\"BEN\",\"BTN\",\"BOL\",\"BWA\",\"BRA\",\"BRN\",\"BGR\",\"BFA\",\"BDI\",\"CPV\",\"KHM\",\"CMR\",\"CAN\",\"CAF\",\"TCD\",\"CHL\",\"CHN\",\"COL\",\"COM\",\"COG\",\"COK\",\"CRI\",\"CIV\",\"HRV\",\"CUB\",\"CYP\",\"CZE\",\"PRK\",\"COD\",\"DNK\",\"DJI\",\"DMA\",\"DOM\",\"ECU\",\"EGY\",\"SLV\",\"GNQ\",\"ERI\",\"EST\",\"ETH\",\"FJI\",\"FIN\",\"FRA\",\"GAB\",\"GMB\",\"DEU\",\"GHA\",\"GRC\",\"GRD\",\"GTM\",\"GIN\",\"GNB\",\"GUY\",\"HTI\",\"HND\",\"HUN\",\"ISL\",\"IND\",\"IDN\",\"IRN\",\"IRL\",\"ISR\",\"ITA\",\"JAM\",\"JPN\",\"JOR\",\"KAZ\",\"KEN\",\"KIR\",\"KWT\",\"KGZ\",\"LAO\",\"LVA\",\"LBN\",\"LSO\",\"LBR\",\"LBY\",\"LTU\",\"LUX\",\"MDG\",\"MWI\",\"MYS\",\"MDV\",\"MLI\",\"MLT\",\"MHL\",\"MRT\",\"MUS\",\"MEX\",\"FSM\",\"MCO\",\"MNG\",\"MNE\",\"MAR\",\"MOZ\",\"MMR\",\"NAM\",\"NRU\",\"NPL\",\"NZL\",\"NIC\",\"NER\",\"NGA\",\"NIU\",\"NOR\",\"OMN\",\"PAK\",\"PLW\",\"PAN\",\"PRY\",\"PER\",\"PHL\",\"POL\",\"QAT\",\"KOR\",\"MDA\",\"ROU\",\"RUS\",\"RWA\",\"KNA\",\"LCA\",\"VCT\",\"WSM\",\"SMR\",\"STP\",\"SAU\",\"SEN\",\"SYC\",\"SLE\",\"SGP\",\"SVK\",\"SVN\",\"SLB\",\"ZAF\",\"SSD\",\"ESP\",\"LKA\",\"SDN\",\"SUR\",\"SWZ\",\"SWE\",\"CHE\",\"SYR\",\"TJK\",\"THA\",\"MKD\",\"TLS\",\"TGO\",\"TON\",\"TTO\",\"TUN\",\"TUR\",\"TKM\",\"TUV\",\"UGA\",\"UKR\",\"ARE\",\"TZA\",\"USA\",\"URY\",\"UZB\",\"VUT\",\"VEN\",\"VNM\",\"YEM\",\"ZMB\",\"ZWE\"]"
   ]
  },
  {
   "cell_type": "code",
   "execution_count": 43,
   "metadata": {
    "collapsed": true
   },
   "outputs": [],
   "source": [
    "under5_filtered = under5.loc[under5['ISO Code'].isin(common_countries)]\n",
    "vaccine_filtered = vaccine.loc[vaccine.ISO_code.isin(common_countries)]\n",
    "incidence_filtered = incidence.loc[incidence.ISO_code.isin(common_countries)]"
   ]
  },
  {
   "cell_type": "code",
   "execution_count": 49,
   "metadata": {},
   "outputs": [],
   "source": [
    "import numpy as np\n",
    "under5_filtered = under5_filtered.replace(0.0, np.nan)"
   ]
  },
  {
   "cell_type": "code",
   "execution_count": 52,
   "metadata": {},
   "outputs": [
    {
     "data": {
      "text/plain": [
       "ISO Code        183\n",
       "Country Name    183\n",
       "2015            183\n",
       "2014            183\n",
       "2013            183\n",
       "2012            183\n",
       "2011            183\n",
       "2010            183\n",
       "2009            183\n",
       "2008            183\n",
       "2007            183\n",
       "2006            183\n",
       "2005            183\n",
       "2004            183\n",
       "2003            183\n",
       "2002            183\n",
       "2001            183\n",
       "2000            183\n",
       "1999            183\n",
       "1998            183\n",
       "1997            183\n",
       "1996            183\n",
       "1995            183\n",
       "1994            183\n",
       "1993            183\n",
       "1992            183\n",
       "1991            183\n",
       "1990            183\n",
       "1989            181\n",
       "1988            180\n",
       "               ... \n",
       "1979            158\n",
       "1978            154\n",
       "1977            150\n",
       "1976            149\n",
       "1975            147\n",
       "1974            144\n",
       "1973            141\n",
       "1972            141\n",
       "1971            138\n",
       "1970            134\n",
       "1969            130\n",
       "1968            123\n",
       "1967            118\n",
       "1966            114\n",
       "1965            113\n",
       "1964            110\n",
       "1963            105\n",
       "1962             96\n",
       "1961             95\n",
       "1960             93\n",
       "1959             87\n",
       "1958             82\n",
       "1957             80\n",
       "1956             77\n",
       "1955             66\n",
       "1954             59\n",
       "1953             50\n",
       "1952             41\n",
       "1951             36\n",
       "1950             26\n",
       "dtype: int64"
      ]
     },
     "execution_count": 52,
     "metadata": {},
     "output_type": "execute_result"
    }
   ],
   "source": [
    "under5_filtered.count(axis='index')"
   ]
  },
  {
   "cell_type": "code",
   "execution_count": 56,
   "metadata": {},
   "outputs": [
    {
     "data": {
      "text/plain": [
       "['BCG',\n",
       " 'DTP1',\n",
       " 'DTP3',\n",
       " 'DTP4',\n",
       " 'HepB_BD',\n",
       " 'HepB3',\n",
       " 'Hib3',\n",
       " 'JapEnc',\n",
       " 'MCV1',\n",
       " 'MCV2',\n",
       " 'PCV1',\n",
       " 'PCV3',\n",
       " 'Pol3',\n",
       " 'Rota1',\n",
       " 'rotac']"
      ]
     },
     "execution_count": 56,
     "metadata": {},
     "output_type": "execute_result"
    }
   ],
   "source": [
    "vaccine_filtered.loc[list(vaccine_filtered.Vaccine.unique())]"
   ]
  },
  {
   "cell_type": "code",
   "execution_count": 50,
   "metadata": {
    "collapsed": true
   },
   "outputs": [],
   "source": [
    "under5_filtered.to_csv(\"data/under5.csv\")\n",
    "vaccine_filtered.to_csv(\"data/vaccine.csv\")\n",
    "incidence_filtered.to_csv(\"data/incidence.csv\")"
   ]
  }
 ],
 "metadata": {
  "anaconda-cloud": {},
  "kernelspec": {
   "display_name": "Python [default]",
   "language": "python",
   "name": "python3"
  },
  "language_info": {
   "codemirror_mode": {
    "name": "ipython",
    "version": 3
   },
   "file_extension": ".py",
   "mimetype": "text/x-python",
   "name": "python",
   "nbconvert_exporter": "python",
   "pygments_lexer": "ipython3",
   "version": "3.5.2"
  }
 },
 "nbformat": 4,
 "nbformat_minor": 1
}
